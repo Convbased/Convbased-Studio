{
 "cells": [
  {
   "cell_type": "code",
   "execution_count": 29,
   "id": "24671578-a546-4780-b0ea-0a6459e6a570",
   "metadata": {
    "ExecutionIndicator": {
     "show": true
    },
    "tags": []
   },
   "outputs": [],
   "source": [
    "import os\n",
    "import json\n",
    "import glob\n",
    "\n",
    "exp_dir = \"logs/convbased_exp1\""
   ]
  },
  {
   "cell_type": "code",
   "execution_count": null,
   "id": "67a3cba8",
   "metadata": {},
   "outputs": [],
   "source": [
    "from preprocess import preprocess_training_set"
   ]
  },
  {
   "cell_type": "code",
   "execution_count": 23,
   "id": "ea646795-4db9-48ad-8f93-a6b53ae3d297",
   "metadata": {
    "ExecutionIndicator": {
     "show": true
    },
    "execution": {
     "iopub.execute_input": "2025-04-19T14:39:16.510019Z",
     "iopub.status.busy": "2025-04-19T14:39:16.509608Z",
     "iopub.status.idle": "2025-04-19T14:39:19.170584Z",
     "shell.execute_reply": "2025-04-19T14:39:19.170122Z",
     "shell.execute_reply.started": "2025-04-19T14:39:16.510001Z"
    },
    "tags": []
   },
   "outputs": [],
   "source": [
    "from extract import run_pitch_extraction, run_embedding_extraction, generate_config, generate_filelist\n",
    "\n",
    "f0_method = \"rmvpe\"\n",
    "hop_length = 128\n",
    "num_processes = 2\n",
    "gpus = \"0\"\n",
    "sample_rate = \"48000\"\n",
    "embedder_model = \"contentvec\"\n",
    "embedder_model_custom = None\n",
    "include_mutes = 0\n",
    "\n",
    "wav_path = os.path.join(exp_dir, \"sliced_audios_16k\")\n",
    "os.makedirs(os.path.join(exp_dir, \"f0\"), exist_ok=True)\n",
    "os.makedirs(os.path.join(exp_dir, \"f0_voiced\"), exist_ok=True)\n",
    "os.makedirs(os.path.join(exp_dir, \"extracted\"), exist_ok=True)\n",
    "\n",
    "chosen_embedder_model = (\n",
    "    embedder_model_custom if embedder_model == \"custom\" else embedder_model\n",
    ")\n",
    "file_path = os.path.join(exp_dir, \"model_info.json\")\n",
    "if os.path.exists(file_path):\n",
    "    with open(file_path, \"r\") as f:\n",
    "        data = json.load(f)\n",
    "else:\n",
    "    data = {}\n",
    "data[\"embedder_model\"] = chosen_embedder_model\n",
    "with open(file_path, \"w\") as f:\n",
    "    json.dump(data, f, indent=4)\n",
    "\n",
    "files = []\n",
    "for file in glob.glob(os.path.join(wav_path, \"*.wav\")):\n",
    "    file_name = os.path.basename(file)\n",
    "    file_info = [\n",
    "        file,\n",
    "        os.path.join(exp_dir, \"f0\", file_name + \".npy\"),\n",
    "        os.path.join(exp_dir, \"f0_voiced\", file_name + \".npy\"),\n",
    "        os.path.join(exp_dir, \"extracted\", file_name.replace(\"wav\", \"npy\")),\n",
    "    ]\n",
    "    files.append(file_info)\n",
    "\n",
    "devices = [\"cpu\"] if gpus == \"-\" else [f\"cuda:{idx}\" for idx in gpus.split(\"-\")]\n"
   ]
  },
  {
   "cell_type": "code",
   "execution_count": 22,
   "id": "ca67228d-4f55-45a8-9fdd-2bc84c91187f",
   "metadata": {
    "ExecutionIndicator": {
     "show": true
    },
    "tags": []
   },
   "outputs": [
    {
     "name": "stdout",
     "output_type": "stream",
     "text": [
      "Starting preprocess with 32 processes...\n"
     ]
    },
    {
     "name": "stderr",
     "output_type": "stream",
     "text": [
      "100%|██████████| 59/59 [00:58<00:00,  1.02it/s]"
     ]
    },
    {
     "name": "stdout",
     "output_type": "stream",
     "text": [
      "Preprocess completed in 58.02 seconds on 05:31:43 seconds of audio.\n"
     ]
    },
    {
     "name": "stderr",
     "output_type": "stream",
     "text": [
      "\n"
     ]
    }
   ],
   "source": [
    "preprocess_training_set(\n",
    "    input_root        = r\"D:\\Drives\\OneDrive - NetDisk\\Datasets 数据集\\音频\\开源数据集\\merged_dataset\\test\",\n",
    "    sr                = 48000,\n",
    "    num_processes     = 32,\n",
    "    exp_dir           = exp_dir,\n",
    "    cut_preprocess    = \"Automatic\",\n",
    "    process_effects   = True,\n",
    "    noise_reduction   = False,\n",
    "    reduction_strength= 0.7,\n",
    "    chunk_len         = 3.0,\n",
    "    overlap_len       = 0.3,\n",
    ")"
   ]
  },
  {
   "cell_type": "code",
   "execution_count": 24,
   "id": "345cabc6-b202-4f98-ad66-52714b824578",
   "metadata": {
    "execution": {
     "iopub.execute_input": "2025-04-19T14:39:19.171369Z",
     "iopub.status.busy": "2025-04-19T14:39:19.171179Z",
     "iopub.status.idle": "2025-04-19T15:05:26.879319Z",
     "shell.execute_reply": "2025-04-19T15:05:26.878844Z",
     "shell.execute_reply.started": "2025-04-19T14:39:19.171355Z"
    }
   },
   "outputs": [
    {
     "name": "stdout",
     "output_type": "stream",
     "text": [
      "Starting pitch extraction on cuda:0 using rmvpe...\n",
      "Pitch extraction completed in 104.77 seconds.\n"
     ]
    }
   ],
   "source": [
    "run_pitch_extraction(files, devices, f0_method, hop_length, num_processes)"
   ]
  },
  {
   "cell_type": "code",
   "execution_count": 25,
   "id": "7917c5e5-494e-45ca-9ed7-915c5816487e",
   "metadata": {
    "execution": {
     "iopub.execute_input": "2025-04-19T15:05:26.880072Z",
     "iopub.status.busy": "2025-04-19T15:05:26.879871Z",
     "iopub.status.idle": "2025-04-19T15:22:23.599736Z",
     "shell.execute_reply": "2025-04-19T15:22:23.599171Z",
     "shell.execute_reply.started": "2025-04-19T15:05:26.880058Z"
    }
   },
   "outputs": [
    {
     "name": "stdout",
     "output_type": "stream",
     "text": [
      "Starting embedding extraction cores on cuda:0...\n",
      "Embedding extraction completed in 37.49 seconds.\n"
     ]
    }
   ],
   "source": [
    "run_embedding_extraction(\n",
    "    files, devices, embedder_model, embedder_model_custom, num_processes\n",
    ")"
   ]
  },
  {
   "cell_type": "code",
   "execution_count": 26,
   "id": "f4dd3d15-a23f-4261-a56d-6ad0a351888e",
   "metadata": {
    "execution": {
     "iopub.execute_input": "2025-04-19T15:22:23.600784Z",
     "iopub.status.busy": "2025-04-19T15:22:23.600480Z",
     "iopub.status.idle": "2025-04-19T15:22:23.605694Z",
     "shell.execute_reply": "2025-04-19T15:22:23.605062Z",
     "shell.execute_reply.started": "2025-04-19T15:22:23.600760Z"
    }
   },
   "outputs": [],
   "source": [
    "generate_config(sample_rate, exp_dir)"
   ]
  },
  {
   "cell_type": "code",
   "execution_count": 27,
   "id": "4099e4fe-e9fb-4f11-aef2-45a16b4f999a",
   "metadata": {
    "ExecutionIndicator": {
     "show": true
    },
    "execution": {
     "iopub.execute_input": "2025-04-19T15:22:23.607228Z",
     "iopub.status.busy": "2025-04-19T15:22:23.606889Z",
     "iopub.status.idle": "2025-04-19T15:22:52.517941Z",
     "shell.execute_reply": "2025-04-19T15:22:52.517477Z",
     "shell.execute_reply.started": "2025-04-19T15:22:23.607208Z"
    },
    "tags": []
   },
   "outputs": [],
   "source": [
    "generate_filelist(exp_dir, sample_rate, include_mutes)"
   ]
  },
  {
   "cell_type": "code",
   "execution_count": 31,
   "id": "e46c9630",
   "metadata": {},
   "outputs": [
    {
     "name": "stdout",
     "output_type": "stream",
     "text": [
      "Speaker ID distribution analysis:\n",
      "Total unique speakers: 476\n",
      "Speaker ID range: [0, 475]\n",
      "Identified speaker IDs: [0, 1, 2, 3, 4, 5, 6, 7, 8, 9, 10, 11, 12, 13, 14, 15, 16, 17, 18, 19, 20, 21, 22, 23, 24, 25, 26, 27, 28, 29, 30, 31, 32, 33, 34, 35, 36, 37, 38, 39, 40, 41, 42, 43, 44, 45, 46, 47, 48, 49, 50, 51, 52, 53, 54, 55, 56, 57, 58, 59, 60, 61, 62, 63, 64, 65, 66, 67, 68, 69, 70, 71, 72, 73, 74, 75, 76, 77, 78, 79, 80, 81, 82, 83, 84, 85, 86, 87, 88, 89, 90, 91, 92, 93, 94, 95, 96, 97, 98, 99, 100, 101, 102, 103, 104, 105, 106, 107, 108, 109, 110, 111, 112, 113, 114, 115, 116, 117, 118, 119, 120, 121, 122, 123, 124, 125, 126, 127, 128, 129, 130, 131, 132, 133, 134, 135, 136, 137, 138, 139, 140, 141, 142, 143, 144, 145, 146, 147, 148, 149, 150, 151, 152, 153, 154, 155, 156, 157, 158, 159, 160, 161, 162, 163, 164, 165, 166, 167, 168, 169, 170, 171, 172, 173, 174, 175, 176, 177, 178, 179, 180, 181, 182, 183, 184, 185, 186, 187, 188, 189, 190, 191, 192, 193, 194, 195, 196, 197, 198, 199, 200, 201, 202, 203, 204, 205, 206, 207, 208, 209, 210, 211, 212, 213, 214, 215, 216, 217, 218, 219, 220, 221, 222, 223, 224, 225, 226, 227, 228, 229, 230, 231, 232, 233, 234, 235, 236, 237, 238, 239, 240, 241, 242, 243, 244, 245, 246, 247, 248, 249, 250, 251, 252, 253, 254, 255, 256, 257, 258, 259, 260, 261, 262, 263, 264, 265, 266, 267, 268, 269, 270, 271, 272, 273, 274, 275, 276, 277, 278, 279, 280, 281, 282, 283, 284, 285, 286, 287, 288, 289, 290, 291, 292, 293, 294, 295, 296, 297, 298, 299, 300, 301, 302, 303, 304, 305, 306, 307, 308, 309, 310, 311, 312, 313, 314, 315, 316, 317, 318, 319, 320, 321, 322, 323, 324, 325, 326, 327, 328, 329, 330, 331, 332, 333, 334, 335, 336, 337, 338, 339, 340, 341, 342, 343, 344, 345, 346, 347, 348, 349, 350, 351, 352, 353, 354, 355, 356, 357, 358, 359, 360, 361, 362, 363, 364, 365, 366, 367, 368, 369, 370, 371, 372, 373, 374, 375, 376, 377, 378, 379, 380, 381, 382, 383, 384, 385, 386, 387, 388, 389, 390, 391, 392, 393, 394, 395, 396, 397, 398, 399, 400, 401, 402, 403, 404, 405, 406, 407, 408, 409, 410, 411, 412, 413, 414, 415, 416, 417, 418, 419, 420, 421, 422, 423, 424, 425, 426, 427, 428, 429, 430, 431, 432, 433, 434, 435, 436, 437, 438, 439, 440, 441, 442, 443, 444, 445, 446, 447, 448, 449, 450, 451, 452, 453, 454, 455, 456, 457, 458, 459, 460, 461, 462, 463, 464, 465, 466, 467, 468, 469, 470, 471, 472, 473, 474, 475]\n",
      "Continuity status: Continuous\n"
     ]
    }
   ],
   "source": [
    "def analyze_speaker_distribution(filelist_path: str) -> tuple[list[int], list[int]]:\n",
    "    \"\"\"\n",
    "    Analyze speaker ID distribution from filelist.txt\n",
    "    \n",
    "    Args:\n",
    "        filelist_path (str): Path to the filelist.txt file\n",
    "        \n",
    "    Returns:\n",
    "        tuple[list[int], list[int]]: A tuple containing:\n",
    "            - List of sorted speaker IDs\n",
    "            - List of missing speaker IDs\n",
    "    \"\"\"\n",
    "    speakers = set()\n",
    "    \n",
    "    with open(filelist_path, 'r', encoding='utf-8') as f:\n",
    "        for line in f:\n",
    "            parts = line.strip().split('|')\n",
    "            if len(parts) > 1:\n",
    "                speaker_id = parts[-1]\n",
    "                if speaker_id.isdigit():\n",
    "                    speakers.add(int(speaker_id))\n",
    "    \n",
    "    sorted_speakers = sorted(speakers)\n",
    "    missing_speakers = []\n",
    "    \n",
    "    if sorted_speakers:\n",
    "        for i in range(0, sorted_speakers[-1]):\n",
    "            if i not in speakers:\n",
    "                missing_speakers.append(i)\n",
    "    \n",
    "    return sorted_speakers, missing_speakers\n",
    "\n",
    "# Main analysis\n",
    "filelist_path = os.path.join(exp_dir, \"filelist.txt\")\n",
    "sorted_speakers, missing_speakers = analyze_speaker_distribution(filelist_path)\n",
    "\n",
    "# Log analysis results\n",
    "print(f\"Speaker ID distribution analysis:\")\n",
    "print(f\"Total unique speakers: {len(sorted_speakers)}\")\n",
    "print(f\"Speaker ID range: [{min(sorted_speakers) if sorted_speakers else 0}, {max(sorted_speakers) if sorted_speakers else 0}]\")\n",
    "print(f\"Identified speaker IDs: {sorted_speakers}\")\n",
    "\n",
    "if missing_speakers:\n",
    "    print(f\"Missing speaker IDs: {missing_speakers}\")\n",
    "    print(f\"Continuity status: Discontinuous (Gaps detected)\")\n",
    "else:\n",
    "    print(f\"Continuity status: Continuous\")\n"
   ]
  }
 ],
 "metadata": {
  "kernelspec": {
   "display_name": "vc-hub",
   "language": "python",
   "name": "python3"
  },
  "language_info": {
   "codemirror_mode": {
    "name": "ipython",
    "version": 3
   },
   "file_extension": ".py",
   "mimetype": "text/x-python",
   "name": "python",
   "nbconvert_exporter": "python",
   "pygments_lexer": "ipython3",
   "version": "3.12.4"
  }
 },
 "nbformat": 4,
 "nbformat_minor": 5
}
