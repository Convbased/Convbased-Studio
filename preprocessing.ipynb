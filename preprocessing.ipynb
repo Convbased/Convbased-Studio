{
 "cells": [
  {
   "cell_type": "code",
   "execution_count": 1,
   "id": "24671578-a546-4780-b0ea-0a6459e6a570",
   "metadata": {
    "ExecutionIndicator": {
     "show": true
    },
    "tags": []
   },
   "outputs": [],
   "source": [
    "import os\n",
    "import json\n",
    "import glob\n",
    "\n",
    "exp_dir = \"logs/high_text_enc_exp1\""
   ]
  },
  {
   "cell_type": "code",
   "execution_count": 2,
   "id": "67a3cba8",
   "metadata": {},
   "outputs": [],
   "source": [
    "from preprocess import preprocess_training_set"
   ]
  },
  {
   "cell_type": "code",
   "execution_count": 7,
   "id": "ea646795-4db9-48ad-8f93-a6b53ae3d297",
   "metadata": {
    "ExecutionIndicator": {
     "show": true
    },
    "execution": {
     "iopub.execute_input": "2025-04-19T14:39:16.510019Z",
     "iopub.status.busy": "2025-04-19T14:39:16.509608Z",
     "iopub.status.idle": "2025-04-19T14:39:19.170584Z",
     "shell.execute_reply": "2025-04-19T14:39:19.170122Z",
     "shell.execute_reply.started": "2025-04-19T14:39:16.510001Z"
    },
    "tags": []
   },
   "outputs": [],
   "source": [
    "from extract import run_pitch_extraction, run_embedding_extraction, generate_config, generate_filelist\n",
    "\n",
    "f0_method = \"rmvpe\"\n",
    "hop_length = 128\n",
    "num_processes = 2\n",
    "gpus = \"0\"\n",
    "sample_rate = \"40000\"\n",
    "embedder_model = \"contentvec\"\n",
    "embedder_model_custom = None\n",
    "include_mutes = 0\n",
    "\n",
    "wav_path = os.path.join(exp_dir, \"sliced_audios_16k\")\n",
    "os.makedirs(os.path.join(exp_dir, \"f0\"), exist_ok=True)\n",
    "os.makedirs(os.path.join(exp_dir, \"f0_voiced\"), exist_ok=True)\n",
    "os.makedirs(os.path.join(exp_dir, \"extracted\"), exist_ok=True)\n",
    "\n",
    "chosen_embedder_model = (\n",
    "    embedder_model_custom if embedder_model == \"custom\" else embedder_model\n",
    ")\n",
    "file_path = os.path.join(exp_dir, \"model_info.json\")\n",
    "if os.path.exists(file_path):\n",
    "    with open(file_path, \"r\") as f:\n",
    "        data = json.load(f)\n",
    "else:\n",
    "    data = {}\n",
    "data[\"embedder_model\"] = chosen_embedder_model\n",
    "with open(file_path, \"w\") as f:\n",
    "    json.dump(data, f, indent=4)\n",
    "\n",
    "devices = [\"cpu\"] if gpus == \"-\" else [f\"cuda:{idx}\" for idx in gpus.split(\"-\")]"
   ]
  },
  {
   "cell_type": "code",
   "execution_count": null,
   "id": "ca67228d-4f55-45a8-9fdd-2bc84c91187f",
   "metadata": {
    "ExecutionIndicator": {
     "show": true
    },
    "tags": []
   },
   "outputs": [],
   "source": [
    "preprocess_training_set(\n",
    "    input_root=r\"\",\n",
    "    sr=40000,\n",
    "    num_processes=32,\n",
    "    exp_dir=exp_dir,\n",
    "    cut_preprocess=\"Automatic\",\n",
    "    process_effects=True,\n",
    "    noise_reduction=False,\n",
    "    reduction_strength=0.7,\n",
    "    chunk_len=3.0,\n",
    "    overlap_len=0.3,\n",
    ")"
   ]
  },
  {
   "cell_type": "code",
   "execution_count": 8,
   "id": "59646057",
   "metadata": {},
   "outputs": [],
   "source": [
    "files = []\n",
    "for file in glob.glob(os.path.join(wav_path, \"*.wav\")):\n",
    "    file_name = os.path.basename(file)\n",
    "    file_info = [\n",
    "        file,\n",
    "        os.path.join(exp_dir, \"f0\", file_name + \".npy\"),\n",
    "        os.path.join(exp_dir, \"f0_voiced\", file_name + \".npy\"),\n",
    "        os.path.join(exp_dir, \"extracted\", file_name.replace(\"wav\", \"npy\")),\n",
    "    ]\n",
    "    files.append(file_info)"
   ]
  },
  {
   "cell_type": "code",
   "execution_count": null,
   "id": "345cabc6-b202-4f98-ad66-52714b824578",
   "metadata": {
    "execution": {
     "iopub.execute_input": "2025-04-19T14:39:19.171369Z",
     "iopub.status.busy": "2025-04-19T14:39:19.171179Z",
     "iopub.status.idle": "2025-04-19T15:05:26.879319Z",
     "shell.execute_reply": "2025-04-19T15:05:26.878844Z",
     "shell.execute_reply.started": "2025-04-19T14:39:19.171355Z"
    }
   },
   "outputs": [],
   "source": [
    "run_pitch_extraction(files, devices, f0_method, hop_length, num_processes)"
   ]
  },
  {
   "cell_type": "code",
   "execution_count": null,
   "id": "7917c5e5-494e-45ca-9ed7-915c5816487e",
   "metadata": {
    "execution": {
     "iopub.execute_input": "2025-04-19T15:05:26.880072Z",
     "iopub.status.busy": "2025-04-19T15:05:26.879871Z",
     "iopub.status.idle": "2025-04-19T15:22:23.599736Z",
     "shell.execute_reply": "2025-04-19T15:22:23.599171Z",
     "shell.execute_reply.started": "2025-04-19T15:05:26.880058Z"
    }
   },
   "outputs": [],
   "source": [
    "run_embedding_extraction(\n",
    "    files, devices, embedder_model, embedder_model_custom, num_processes\n",
    ")"
   ]
  },
  {
   "cell_type": "code",
   "execution_count": 12,
   "id": "f4dd3d15-a23f-4261-a56d-6ad0a351888e",
   "metadata": {
    "execution": {
     "iopub.execute_input": "2025-04-19T15:22:23.600784Z",
     "iopub.status.busy": "2025-04-19T15:22:23.600480Z",
     "iopub.status.idle": "2025-04-19T15:22:23.605694Z",
     "shell.execute_reply": "2025-04-19T15:22:23.605062Z",
     "shell.execute_reply.started": "2025-04-19T15:22:23.600760Z"
    }
   },
   "outputs": [],
   "source": [
    "generate_config(sample_rate, exp_dir)"
   ]
  },
  {
   "cell_type": "code",
   "execution_count": 13,
   "id": "4099e4fe-e9fb-4f11-aef2-45a16b4f999a",
   "metadata": {
    "ExecutionIndicator": {
     "show": true
    },
    "execution": {
     "iopub.execute_input": "2025-04-19T15:22:23.607228Z",
     "iopub.status.busy": "2025-04-19T15:22:23.606889Z",
     "iopub.status.idle": "2025-04-19T15:22:52.517941Z",
     "shell.execute_reply": "2025-04-19T15:22:52.517477Z",
     "shell.execute_reply.started": "2025-04-19T15:22:23.607208Z"
    },
    "tags": []
   },
   "outputs": [],
   "source": [
    "generate_filelist(exp_dir, sample_rate, include_mutes)"
   ]
  }
 ],
 "metadata": {
  "kernelspec": {
   "display_name": "vc-hub",
   "language": "python",
   "name": "python3"
  },
  "language_info": {
   "codemirror_mode": {
    "name": "ipython",
    "version": 3
   },
   "file_extension": ".py",
   "mimetype": "text/x-python",
   "name": "python",
   "nbconvert_exporter": "python",
   "pygments_lexer": "ipython3",
   "version": "3.12.4"
  }
 },
 "nbformat": 4,
 "nbformat_minor": 5
}
