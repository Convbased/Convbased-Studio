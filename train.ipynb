{
 "cells": [
  {
   "cell_type": "code",
   "execution_count": 1,
   "id": "b0728d9c-a161-47e8-9295-110df24839e3",
   "metadata": {
    "ExecutionIndicator": {
     "show": true
    },
    "execution": {
     "iopub.execute_input": "2025-04-20T17:04:05.640114Z",
     "iopub.status.busy": "2025-04-20T17:04:05.639793Z",
     "iopub.status.idle": "2025-04-20T17:04:05.646722Z",
     "shell.execute_reply": "2025-04-20T17:04:05.646303Z",
     "shell.execute_reply.started": "2025-04-20T17:04:05.640094Z"
    },
    "tags": []
   },
   "outputs": [],
   "source": [
    "import subprocess, threading, time, os, sys\n",
    "\n",
    "exp_dir = \"logs/aishell1/\"\n",
    "\n",
    "total_epoch = 800  # @param {type:\"integer\"}\n",
    "batch_size = 15  # @param {type:\"slider\", min:1, max:25, step:0}\n",
    "gpu = 0\n",
    "sr = 48000\n",
    "cleanup = False  # @param{type:\"boolean\"}\n",
    "cache_data_in_gpu = False  # @param{type:\"boolean\"}\n",
    "\n",
    "save_every_epoch = 10  # @param {type:\"slider\", min:1, max:100, step:0}\n",
    "save_only_latest = False  # @param{type:\"boolean\"}\n",
    "save_every_weights = False  # @param{type:\"boolean\"}\n",
    "overtraining_detector = False  # @param{type:\"boolean\"}\n",
    "overtraining_threshold = 50  # @param {type:\"slider\", min:1, max:100, step:0}"
   ]
  },
  {
   "cell_type": "code",
   "execution_count": 2,
   "id": "8ae5b5c3-3311-49b8-a5a1-64de7f2b146a",
   "metadata": {
    "ExecutionIndicator": {
     "show": true
    },
    "execution": {
     "iopub.execute_input": "2025-04-20T17:04:05.648207Z",
     "iopub.status.busy": "2025-04-20T17:04:05.647817Z",
     "iopub.status.idle": "2025-04-20T17:04:05.653462Z",
     "shell.execute_reply": "2025-04-20T17:04:05.652899Z",
     "shell.execute_reply.started": "2025-04-20T17:04:05.648179Z"
    },
    "tags": []
   },
   "outputs": [
    {
     "name": "stdout",
     "output_type": "stream",
     "text": [
      "Launch command:\n",
      " /usr/local/bin/python train/train.py logs/aishell1/ 10 800 None None 0 15 48000 False False False False 50 False MRF HiFi-GAN False \n",
      "\n",
      "/mnt/workspace/train/train.py:11: DeprecationWarning: The distutils package is deprecated and slated for removal in Python 3.12. Use setuptools or check PEP 632 for potential alternatives\n",
      "  from distutils.util import strtobool\n",
      "2025-04-21 01:04:07.073108: I tensorflow/core/util/port.cc:113] oneDNN custom operations are on. You may see slightly different numerical results due to floating-point round-off errors from different computation orders. To turn them off, set the environment variable `TF_ENABLE_ONEDNN_OPTS=0`.\n",
      "2025-04-21 01:04:07.116680: I tensorflow/core/platform/cpu_feature_guard.cc:210] This TensorFlow binary is optimized to use available CPU instructions in performance-critical operations.\n",
      "To enable the following instructions: AVX2 AVX512F AVX512_VNNI FMA, in other operations, rebuild TensorFlow with the appropriate compiler flags.\n",
      "2025-04-21 01:04:07.976342: W tensorflow/compiler/tf2tensorrt/utils/py_utils.cc:38] TF-TRT Warning: Could not find TensorRT\n",
      "2025-04-21 01:04:12.603677: I tensorflow/core/util/port.cc:113] oneDNN custom operations are on. You may see slightly different numerical results due to floating-point round-off errors from different computation orders. To turn them off, set the environment variable `TF_ENABLE_ONEDNN_OPTS=0`.\n",
      "2025-04-21 01:04:12.645457: I tensorflow/core/platform/cpu_feature_guard.cc:210] This TensorFlow binary is optimized to use available CPU instructions in performance-critical operations.\n",
      "To enable the following instructions: AVX2 AVX512F AVX512_VNNI FMA, in other operations, rebuild TensorFlow with the appropriate compiler flags.\n",
      "2025-04-21 01:04:13.516636: W tensorflow/compiler/tf2tensorrt/utils/py_utils.cc:38] TF-TRT Warning: Could not find TensorRT\n",
      "Using MRF HiFi-GAN vocoder\n"
     ]
    }
   ],
   "source": [
    "def start_train():\n",
    "    pg = pd = \"None\"\n",
    "\n",
    "    cmd = [\n",
    "        sys.executable,\n",
    "        \"train/train.py\",\n",
    "        exp_dir,\n",
    "        str(save_every_epoch),\n",
    "        str(total_epoch),\n",
    "        pg,\n",
    "        pd,\n",
    "        str(gpu),\n",
    "        str(batch_size),\n",
    "        str(sr),\n",
    "        str(save_only_latest),\n",
    "        str(save_every_weights),\n",
    "        str(cache_data_in_gpu),\n",
    "        str(overtraining_detector),\n",
    "        str(overtraining_threshold),\n",
    "        str(cleanup),\n",
    "        \"MRF HiFi-GAN\",\n",
    "        \"False\"\n",
    "    ]\n",
    "\n",
    "    print(\"Launch command:\\n\", \" \".join(cmd), \"\\n\")\n",
    "    process = subprocess.Popen(cmd, stdout=subprocess.PIPE, stderr=subprocess.STDOUT, text=True)\n",
    "\n",
    "    for line in iter(process.stdout.readline, ''):\n",
    "        print(line, end='')\n",
    "\n",
    "\n",
    "server_thread = threading.Thread(target=start_train, daemon=True)\n",
    "server_thread.start()\n",
    "\n"
   ]
  }
 ],
 "metadata": {
  "kernelspec": {
   "display_name": "Python 3 (ipykernel)",
   "language": "python",
   "name": "python3"
  },
  "language_info": {
   "codemirror_mode": {
    "name": "ipython",
    "version": 3
   },
   "file_extension": ".py",
   "mimetype": "text/x-python",
   "name": "python",
   "nbconvert_exporter": "python",
   "pygments_lexer": "ipython3",
   "version": "3.11.11"
  }
 },
 "nbformat": 4,
 "nbformat_minor": 5
}
