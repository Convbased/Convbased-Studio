{
 "cells": [
  {
   "cell_type": "code",
   "execution_count": 11,
   "id": "b0728d9c-a161-47e8-9295-110df24839e3",
   "metadata": {
    "ExecutionIndicator": {
     "show": true
    },
    "execution": {
     "iopub.execute_input": "2025-04-20T17:04:05.640114Z",
     "iopub.status.busy": "2025-04-20T17:04:05.639793Z",
     "iopub.status.idle": "2025-04-20T17:04:05.646722Z",
     "shell.execute_reply": "2025-04-20T17:04:05.646303Z",
     "shell.execute_reply.started": "2025-04-20T17:04:05.640094Z"
    },
    "tags": []
   },
   "outputs": [],
   "source": [
    "import subprocess, threading, time, os, sys\n",
    "\n",
    "exp_dir = \"high_text_enc_exp1/\"\n",
    "\n",
    "total_epoch = 800  # @param {type:\"integer\"}\n",
    "batch_size = 4  # @param {type:\"slider\", min:1, max:25, step:0}\n",
    "gpu = 0\n",
    "sr = 40000\n",
    "cleanup = False  # @param{type:\"boolean\"}\n",
    "cache_data_in_gpu = False  # @param{type:\"boolean\"}\n",
    "\n",
    "save_every_epoch = 10  # @param {type:\"slider\", min:1, max:100, step:0}\n",
    "save_only_latest = False  # @param{type:\"boolean\"}\n",
    "save_every_weights = False  # @param{type:\"boolean\"}\n",
    "overtraining_detector = True  # @param{type:\"boolean\"}\n",
    "overtraining_threshold = 50  # @param {type:\"slider\", min:1, max:100, step:0}\n",
    "\n",
    "pg = pd = \"None\""
   ]
  },
  {
   "cell_type": "code",
   "execution_count": null,
   "id": "8ae5b5c3-3311-49b8-a5a1-64de7f2b146a",
   "metadata": {
    "ExecutionIndicator": {
     "show": true
    },
    "execution": {
     "iopub.execute_input": "2025-04-20T17:04:05.648207Z",
     "iopub.status.busy": "2025-04-20T17:04:05.647817Z",
     "iopub.status.idle": "2025-04-20T17:04:05.653462Z",
     "shell.execute_reply": "2025-04-20T17:04:05.652899Z",
     "shell.execute_reply.started": "2025-04-20T17:04:05.648179Z"
    },
    "tags": []
   },
   "outputs": [],
   "source": [
    "def start_train():\n",
    "    cmd = [\n",
    "        sys.executable,\n",
    "        \"train/train.py\",\n",
    "        exp_dir,\n",
    "        str(save_every_epoch),\n",
    "        str(total_epoch),\n",
    "        pg,\n",
    "        pd,\n",
    "        str(gpu),\n",
    "        str(batch_size),\n",
    "        str(sr),\n",
    "        str(save_only_latest),\n",
    "        str(save_every_weights),\n",
    "        str(cache_data_in_gpu),\n",
    "        str(overtraining_detector),\n",
    "        str(overtraining_threshold),\n",
    "        str(cleanup),\n",
    "        \"HiFi-GAN\",\n",
    "        \"False\"\n",
    "    ]\n",
    "\n",
    "    print(\"Launch command:\\n\", \" \".join(cmd), \"\\n\")\n",
    "    process = subprocess.Popen(cmd, stdout=subprocess.PIPE, stderr=subprocess.STDOUT, text=True)\n",
    "\n",
    "    for line in iter(process.stdout.readline, ''):\n",
    "        print(line, end='')\n",
    "\n",
    "\n",
    "start_train()\n",
    "\n"
   ]
  }
 ],
 "metadata": {
  "kernelspec": {
   "display_name": "vc-hub",
   "language": "python",
   "name": "python3"
  },
  "language_info": {
   "codemirror_mode": {
    "name": "ipython",
    "version": 3
   },
   "file_extension": ".py",
   "mimetype": "text/x-python",
   "name": "python",
   "nbconvert_exporter": "python",
   "pygments_lexer": "ipython3",
   "version": "3.12.4"
  }
 },
 "nbformat": 4,
 "nbformat_minor": 5
}
